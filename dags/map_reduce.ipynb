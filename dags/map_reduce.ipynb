{
 "cells": [
  {
   "cell_type": "code",
   "execution_count": 1,
   "metadata": {},
   "outputs": [],
   "source": [
    "import xml.etree.ElementTree as ET\n",
    "from datetime import datetime, timedelta\n",
    "\n",
    "URL = '/home/carlosdev/Descargas/Stackoverflow/Stack Overflow 11-2010/112010 Meta Stack Overflow/posts.xml'\n",
    "tree = ET.parse(URL)\n",
    "root = tree.getroot()"
   ]
  },
  {
   "cell_type": "markdown",
   "metadata": {},
   "source": [
    "### *Top 10 post mas vistos*"
   ]
  },
  {
   "cell_type": "code",
   "execution_count": 79,
   "metadata": {},
   "outputs": [
    {
     "name": "stdout",
     "output_type": "stream",
     "text": [
      "CPU times: user 4 µs, sys: 1 µs, total: 5 µs\n",
      "Wall time: 8.34 µs\n",
      "ID Post - ViewCount\n",
      "--------------------\n",
      "28625       33344\n",
      "--------------------\n",
      "37328       28372\n",
      "--------------------\n",
      "31913       26601\n",
      "--------------------\n",
      "9134       20536\n",
      "--------------------\n",
      "1777       19695\n",
      "--------------------\n",
      "2267       15180\n",
      "--------------------\n",
      "7931       12584\n",
      "--------------------\n",
      "61142       9918\n",
      "--------------------\n",
      "20420       8903\n",
      "--------------------\n",
      "53346       8619\n",
      "--------------------\n"
     ]
    }
   ],
   "source": [
    "%time\n",
    "#mapper\n",
    "def mapper(root: ET) -> list:\n",
    "    '''\n",
    "    Función que mapea y devuelve una lista de pares id del post y cantidad de vistas\n",
    "\n",
    "    Args:\n",
    "        root (ElementTree): Elementos extraidos desde el xml\n",
    "\n",
    "    Returns:\n",
    "        list: lista de pares id_post y viewcount\n",
    "    '''\n",
    "    post_view = []\n",
    "    #itero sobre el elemento que contiene todos los post del .xml\n",
    "    for i in root:\n",
    "        post_view.append([i.attrib['Id'], i.attrib['ViewCount']])\n",
    "    return post_view\n",
    "\n",
    "#Reduce\n",
    "def reducer(posts: list) -> None:\n",
    "    '''\n",
    "    Función que muestra los primeros 10 posts mas vistos\n",
    "\n",
    "    Args:\n",
    "        posts (list): lista de pares id_post y viewcount\n",
    "    '''\n",
    "    #ordeno la lista \n",
    "    post_view2 = sorted(posts, key=lambda x: int(x[1]), reverse=True)\n",
    "    #muestro los primeros 10\n",
    "    print('ID Post - ViewCount')\n",
    "    print('--'*10)\n",
    "    for i in range(10):\n",
    "        print(f'{post_view2[i][0]}       {post_view2[i][1]}')\n",
    "        print('--'*10)\n",
    "reducer(mapper(root))\n"
   ]
  },
  {
   "cell_type": "markdown",
   "metadata": {},
   "source": [
    "### *Top 10 palabras mas nombradas en los post por tag*"
   ]
  },
  {
   "cell_type": "code",
   "execution_count": 80,
   "metadata": {},
   "outputs": [],
   "source": [
    "def mapper_tags(root: ET) -> dict:\n",
    "    '''\n",
    "    Función que coloca todas las palabras en un unico arreglo para cada key o tag\n",
    "\n",
    "    Args:\n",
    "        root (ET): el xml extraido\n",
    "\n",
    "    Returns:\n",
    "        dict: diccionario con todas la palabras por key o tag\n",
    "    '''\n",
    "    def normaliza(body: str) -> str:\n",
    "        '''\n",
    "        Función para limpiar el texto de caracteres especiales y espacios\n",
    "\n",
    "        Args:\n",
    "            body (str): texto para limpiar y appendear\n",
    "\n",
    "        Returns:\n",
    "            str: texto limpio\n",
    "        '''\n",
    "        temp = body\n",
    "        temp = temp.split('<a')[0]\n",
    "        temp = temp.replace('<p>', '').replace('</p>', '').replace(',', '').replace('?', '').replace('/', '')\\\n",
    "            .replace('--', '').replace('\"','').replace('\\n', '').replace('<br />', '').replace('(', '').replace(')', '')\\\n",
    "                .replace('-', '').replace(\"'\", \"\").replace('.', '').replace('  ', ' ').replace('<em>', '').replace('<br>', '')\\\n",
    "                    .replace('<strong>', '').replace('<code>', '').replace('<blockquote>', '').replace(':', '').replace('<ul>', '')\\\n",
    "                        .replace('<li>', '').replace(';', '').replace('>', '')\n",
    "        temp = temp.lower()\n",
    "        return temp.strip()\n",
    "\n",
    "    dic_posts = {}#diccionario para guardar posts por tags\n",
    "\n",
    "    for i in root:\n",
    "        try:\n",
    "            #extrayendo cada tag\n",
    "            temp = i.attrib['Tags'].split('>')\n",
    "            for j in temp:\n",
    "                j = j.replace('<', '')\n",
    "                j = j.strip()\n",
    "                j = j.lower()\n",
    "                if j != '':\n",
    "                    #aca me fijo si esta el tag le agrego el body, sino creo el tag y le agrego el body\n",
    "                    if j in dic_posts.keys():\n",
    "                        dic_posts[j].append(normaliza(i.attrib['Body']))\n",
    "                    else:\n",
    "                        dic_posts[j] = []\n",
    "                        dic_posts[j].append(normaliza(i.attrib['Body']))\n",
    "        except:\n",
    "            pass\n",
    "    \n",
    "    dict_palabras = {}\n",
    "    for key in dic_posts.keys():\n",
    "        #recorro cada key o tag\n",
    "        palabras = []\n",
    "        for k in dic_posts[key]:\n",
    "            #recorro la lista de palabras para cada tag y creo un dict con un key unico y todas las palabras \n",
    "            # de esa key como value\n",
    "            temp = k.split()\n",
    "            for j in temp:\n",
    "                palabras.append(j)\n",
    "        dict_palabras[key] = palabras\n",
    "    return dict_palabras\n"
   ]
  },
  {
   "cell_type": "code",
   "execution_count": 81,
   "metadata": {},
   "outputs": [],
   "source": [
    "def reduce_tags(dict_palabra: dict) -> dict:\n",
    "    '''\n",
    "    Función reduce recibo un diccionario con todas las palabras de cada tags y muestro\n",
    "    como salida un dict con las top 10 palabras para cada tag\n",
    "\n",
    "    Args:\n",
    "        dict_palabra (dict): diccionario con una lista de palabras por tags\n",
    "\n",
    "    Returns:\n",
    "        dict: diccionario con top 10 palabras mas repetidas por tag(key)\n",
    "    '''\n",
    "    dict_tags = {}\n",
    "    for key in dict_palabra.keys():#recorro cada key o tag\n",
    "        diccionario = {}\n",
    "        for i in dict_palabra[key]:\n",
    "            #recorro para el tag o key cada palabra si esta la sumo y sino la agrego a un dict nuevo\n",
    "            if i in diccionario.keys():\n",
    "                diccionario[i] += 1\n",
    "            else:\n",
    "                diccionario[i] = 1\n",
    "        dict_ordenado = sorted(diccionario.items(), key=lambda x: x[1], reverse=True)#ordeno el dict lo \n",
    "        top_dict = [dict_ordenado[i] for i in range(10) if len(dict_ordenado) >= 10]#extraigo el top 10 palabras\n",
    "        dict_tags[key] = top_dict#lo agrego al diccionario final \n",
    "    return dict_tags"
   ]
  },
  {
   "cell_type": "code",
   "execution_count": 82,
   "metadata": {},
   "outputs": [
    {
     "name": "stdout",
     "output_type": "stream",
     "text": [
      "CPU times: user 3 µs, sys: 0 ns, total: 3 µs\n",
      "Wall time: 5.01 µs\n"
     ]
    }
   ],
   "source": [
    "%time\n",
    "map_tag = mapper_tags(root)\n",
    "redu_tag = reduce_tags(map_tag)"
   ]
  },
  {
   "cell_type": "code",
   "execution_count": 86,
   "metadata": {},
   "outputs": [
    {
     "data": {
      "text/plain": [
       "1315"
      ]
     },
     "execution_count": 86,
     "metadata": {},
     "output_type": "execute_result"
    }
   ],
   "source": [
    "len(redu_tag)"
   ]
  },
  {
   "cell_type": "code",
   "execution_count": 87,
   "metadata": {},
   "outputs": [
    {
     "data": {
      "text/plain": [
       "[('the', 14049),\n",
       " ('to', 10930),\n",
       " ('a', 9140),\n",
       " ('i', 8154),\n",
       " ('of', 6349),\n",
       " ('and', 6047),\n",
       " ('is', 5433),\n",
       " ('that', 5100),\n",
       " ('it', 4479),\n",
       " ('in', 3683)]"
      ]
     },
     "execution_count": 87,
     "metadata": {},
     "output_type": "execute_result"
    }
   ],
   "source": [
    "redu_tag['discussion']"
   ]
  },
  {
   "cell_type": "markdown",
   "metadata": {},
   "source": [
    "### *Tiempo de respuesta del ranking 200-300 por score*"
   ]
  },
  {
   "cell_type": "code",
   "execution_count": 50,
   "metadata": {},
   "outputs": [],
   "source": [
    "#Genero una lista con el tiempo de respuesta expresado en minutos -> salida del map\n",
    "def map_score(top_score: list, answer: dict) -> list:\n",
    "    '''\n",
    "    Función map que genera una lista con el timepo en minutos de respuesta entre\n",
    "    la pregunta y la respuesta aceptada\n",
    "\n",
    "    Args:\n",
    "        top_score (list): lista con la preguntas ordenadas por score del 200-300\n",
    "        answer (dict): diccionario que contiene como key el id de respuesta y valor hora creada\n",
    "\n",
    "    Returns:\n",
    "        list: lista expresada en minutos de tiempo de respuesta entre pregunta y respuesta aceptada\n",
    "    '''\n",
    "    list_time = []\n",
    "    for res, hora_q, score in top_score:\n",
    "        hora_a = answer[res]#extraigo la hora del dicc de respuestas\n",
    "        diff = hora_a-hora_q\n",
    "        diff_s = diff.total_seconds()\n",
    "        minutos = divmod(diff_s, 60)[0]#diferencia en minutos\n",
    "        list_time.append(int(minutos))#apendeando los minutos\n",
    "    return list_time"
   ]
  },
  {
   "cell_type": "code",
   "execution_count": 60,
   "metadata": {},
   "outputs": [],
   "source": [
    "#Genero un solo resultado de tiempo de respuesta en minutos -> salida del reduce\n",
    "def reduce_score(list_time: list) -> None:\n",
    "    '''\n",
    "    Función reduce que muestra el resultado promedio de la lista generada anteriormente\n",
    "    expresada en minutos de la diferencia entre la pregunta y respueta aceptada.\n",
    "\n",
    "    Args:\n",
    "        list_time (list): lista expresada en minutos del tiempo de respuesta\n",
    "    '''\n",
    "    calc = 0\n",
    "    for i in list_time:\n",
    "        calc += i\n",
    "    print(f'Horas promedio de respuesta: {int(calc / 60 /100)} horas')\n",
    "    print(f'En dias seria: {int(calc / 60 /100 /24)} dias')"
   ]
  },
  {
   "cell_type": "code",
   "execution_count": 61,
   "metadata": {},
   "outputs": [
    {
     "name": "stdout",
     "output_type": "stream",
     "text": [
      "CPU times: user 3 µs, sys: 0 ns, total: 3 µs\n",
      "Wall time: 5.96 µs\n",
      "Horas promedio de respuesta: 171 horas\n",
      "En dias seria: 7 dias\n"
     ]
    }
   ],
   "source": [
    "%time\n",
    "#creo una lista para las question y un diccionario para las respuestas\n",
    "question = []#lista con todas las preguntas\n",
    "answer = {}#diccionario con el id de respuesta como keys y la hora creada como valor\n",
    "for i in root:\n",
    "    temp = int(i.attrib['PostTypeId'])\n",
    "    if temp == 1:#pregunto si es question\n",
    "        try:#este try va porque aveces no tiene respuesta aceptada o le falta otro atributo\n",
    "            if i.attrib['AcceptedAnswerId'] != '' and i.attrib['CreationDate'] != '' and i.attrib['Score'] != '':\n",
    "                q_temp = []\n",
    "                q_temp.append(i.attrib['AcceptedAnswerId'])\n",
    "                horaQuestion = i.attrib['CreationDate'].replace('T', ' ').split('.')[0]\n",
    "                horaQuestion = datetime.strptime(horaQuestion, '%Y-%m-%d %H:%M:%S')\n",
    "                q_temp.append(horaQuestion)\n",
    "                q_temp.append(i.attrib['Score'])\n",
    "                question.append(q_temp)#lista con respuesta aceptada, hora y score\n",
    "        except:\n",
    "            pass\n",
    "        \n",
    "    else:#entro aca si es answer\n",
    "        horaAnswer = i.attrib['CreationDate'].replace('T', ' ').split('.')[0]\n",
    "        horaAnswer = datetime.strptime(horaAnswer, '%Y-%m-%d %H:%M:%S')\n",
    "        answer[i.attrib['Id']] = horaAnswer#diccionario con key id respuesta y valor hora de creación\n",
    "#genero la lista de top score de 200-300\n",
    "top_score = []\n",
    "question_ord = sorted(question, key=lambda x: x[2], reverse=True)\n",
    "for i in range(199, 299):\n",
    "    top_score.append(question_ord[i])\n",
    "#Llamando a reduce_score y map_score\n",
    "reduce_score(map_score(top_score, answer))"
   ]
  }
 ],
 "metadata": {
  "kernelspec": {
   "display_name": "Python 3.8.10 64-bit",
   "language": "python",
   "name": "python3"
  },
  "language_info": {
   "codemirror_mode": {
    "name": "ipython",
    "version": 3
   },
   "file_extension": ".py",
   "mimetype": "text/x-python",
   "name": "python",
   "nbconvert_exporter": "python",
   "pygments_lexer": "ipython3",
   "version": "3.8.10"
  },
  "orig_nbformat": 4,
  "vscode": {
   "interpreter": {
    "hash": "916dbcbb3f70747c44a77c7bcd40155683ae19c65e1c03b4aa3499c5328201f1"
   }
  }
 },
 "nbformat": 4,
 "nbformat_minor": 2
}
