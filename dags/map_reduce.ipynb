{
 "cells": [
  {
   "cell_type": "code",
   "execution_count": 20,
   "metadata": {},
   "outputs": [],
   "source": [
    "import xml.etree.ElementTree as ET\n",
    "from functools import reduce"
   ]
  },
  {
   "cell_type": "code",
   "execution_count": 21,
   "metadata": {},
   "outputs": [],
   "source": [
    "url = '/home/carlosdev/Descargas/Stackoverflow/Stack Overflow 11-2010/112010 Meta Stack Overflow/posts.xml'\n",
    "tree = ET.parse(url)\n",
    "root = tree.getroot()"
   ]
  },
  {
   "cell_type": "code",
   "execution_count": 22,
   "metadata": {},
   "outputs": [],
   "source": [
    "#mapper\n",
    "#extrayendo info del xml\n",
    "post_view = []\n",
    "def mapper(id):\n",
    "    '''\n",
    "    Función que retorna lista mapeada\n",
    "\n",
    "    Args:\n",
    "        id (list): lista de id_post y cantidad de vistas\n",
    "\n",
    "    Returns:\n",
    "        list: lista de id_post y cantidad de vistas\n",
    "    '''\n",
    "    return id\n",
    "#itero sobre el elemento que contiene todos los post del .xml\n",
    "for i in root:\n",
    "    var = map(mapper, [i.attrib['Id'], i.attrib['ViewCount']])\n",
    "    post_view.append(list(var))"
   ]
  },
  {
   "cell_type": "code",
   "execution_count": 23,
   "metadata": {},
   "outputs": [
    {
     "name": "stdout",
     "output_type": "stream",
     "text": [
      "['28625', '33344']\n",
      "['37328', '28372']\n",
      "['31913', '26601']\n",
      "['9134', '20536']\n",
      "['1777', '19695']\n",
      "['2267', '15180']\n",
      "['7931', '12584']\n",
      "['61142', '9918']\n",
      "['20420', '8903']\n",
      "['53346', '8619']\n"
     ]
    }
   ],
   "source": [
    "def reducex(a, b):\n",
    "    '''\n",
    "    Función que devuelve el más grande de dos numeros\n",
    "\n",
    "    Args:\n",
    "        a (list): lista de 2 elementos(id del post, cantidad de vistas)\n",
    "        b (list): lista de 2 elementos(id del post, cantidad de vistas)\n",
    "\n",
    "    Returns:\n",
    "        list: lista con cantidad de vistas mayor\n",
    "    '''\n",
    "    if int(a[1]) > int(b[1]):\n",
    "        return a\n",
    "    return b\n",
    "#ordeno la lista \n",
    "post_view2 = sorted(post_view, key=lambda x: int(x[1]), reverse=True)\n",
    "#aplico el reduce y muestro los primeros 10\n",
    "for i in range(10):\n",
    "    print(reduce(reducex, post_view2))\n",
    "    post_view2.pop(0)"
   ]
  }
 ],
 "metadata": {
  "kernelspec": {
   "display_name": "Python 3.8.10 64-bit",
   "language": "python",
   "name": "python3"
  },
  "language_info": {
   "codemirror_mode": {
    "name": "ipython",
    "version": 3
   },
   "file_extension": ".py",
   "mimetype": "text/x-python",
   "name": "python",
   "nbconvert_exporter": "python",
   "pygments_lexer": "ipython3",
   "version": "3.8.10"
  },
  "orig_nbformat": 4,
  "vscode": {
   "interpreter": {
    "hash": "916dbcbb3f70747c44a77c7bcd40155683ae19c65e1c03b4aa3499c5328201f1"
   }
  }
 },
 "nbformat": 4,
 "nbformat_minor": 2
}
